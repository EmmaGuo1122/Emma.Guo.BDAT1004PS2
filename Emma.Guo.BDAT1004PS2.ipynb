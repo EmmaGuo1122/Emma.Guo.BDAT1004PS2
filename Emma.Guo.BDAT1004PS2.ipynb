{
 "cells": [
  {
   "cell_type": "markdown",
   "id": "648ab760",
   "metadata": {},
   "source": [
    "# Question 1#\n",
    "Consider the following Python module:\n",
    "<br>a = 0\n",
    "<br>def b():\n",
    "<br>global a\n",
    "<br>a = c(a)\n",
    "<br>def c(a):\n",
    "<br>return a + 2\n",
    "<br>After importing the module into the interpreter, you execute:\n",
    "<br>b()\n",
    "<br>b()\n",
    "<br>b()\n",
    "<br>a\n",
    "<br>?\n",
    "<br>What value is displayed when the last expression (a) is evaluated? Explain your answer by indicating what happens in every executed statement"
   ]
  },
  {
   "cell_type": "code",
   "execution_count": 6,
   "id": "47526a62",
   "metadata": {},
   "outputs": [],
   "source": [
    "a = 0\n",
    "def b():\n",
    "    global a\n",
    "    a = c(a)\n",
    "def c(a):\n",
    "    return a + 2"
   ]
  },
  {
   "cell_type": "code",
   "execution_count": 7,
   "id": "de020855",
   "metadata": {},
   "outputs": [],
   "source": [
    "b()"
   ]
  },
  {
   "cell_type": "markdown",
   "id": "f4c63319",
   "metadata": {},
   "source": [
    "a=0 -> a=c(a) and excute c(a=0) -> a=0+2=2"
   ]
  },
  {
   "cell_type": "code",
   "execution_count": 8,
   "id": "af52d56d",
   "metadata": {},
   "outputs": [],
   "source": [
    "b()"
   ]
  },
  {
   "cell_type": "markdown",
   "id": "2de1e841",
   "metadata": {},
   "source": [
    "a=2 -> a=c(a) and excute c(a=2) -> a=2+2=4"
   ]
  },
  {
   "cell_type": "code",
   "execution_count": 9,
   "id": "851fd71d",
   "metadata": {},
   "outputs": [],
   "source": [
    "b()"
   ]
  },
  {
   "cell_type": "markdown",
   "id": "4e18a414",
   "metadata": {},
   "source": [
    "a=4 -> a=c(a) and excute c(a=4) -> a=4+2=6"
   ]
  },
  {
   "cell_type": "code",
   "execution_count": 10,
   "id": "74b8f03d",
   "metadata": {},
   "outputs": [
    {
     "data": {
      "text/plain": [
       "6"
      ]
     },
     "execution_count": 10,
     "metadata": {},
     "output_type": "execute_result"
    }
   ],
   "source": [
    "a"
   ]
  },
  {
   "cell_type": "markdown",
   "id": "9eeefcaa",
   "metadata": {},
   "source": [
    "# Question 2 #\n",
    "Function fileLength(), given to you, takes the name of a file as input and returns the length of the file: <br> fileLength('midterm.py') 284 <br>fileLength('idterm.py') <br>Traceback (most recent call last): <br>File \"<pyshell#34>\", line 1, in <module> <br>fileLength('idterm.py') <br>File \"/Users/me/midterm.py\", line 3, in fileLength <br>infile = open(filename) <br>FileNotFoundError: [Errno 2] No such file or directory: 'idterm.py'<br>\n",
    "As shown above, if the file cannot be found by the interpreter or if it cannot be read as a text file, an exception will be raised. Modify function fileLength() so that a friendly message is printed instead: <br>fileLength('midterm.py') 358 <br> fileLength('idterm.py') File idterm.py not found."
   ]
  },
  {
   "cell_type": "code",
   "execution_count": 31,
   "id": "572ba5c2",
   "metadata": {},
   "outputs": [],
   "source": [
    "def fileLength(file_name):\n",
    "    try:\n",
    "        file = open(file_name)\n",
    "        contents = file.read()\n",
    "        file.close()\n",
    "        print(len(contents))\n",
    "    except:\n",
    "        print(\"File \" + file_name+\" not found\")"
   ]
  },
  {
   "cell_type": "code",
   "execution_count": 32,
   "id": "768e2076",
   "metadata": {},
   "outputs": [
    {
     "name": "stdout",
     "output_type": "stream",
     "text": [
      "123\n"
     ]
    }
   ],
   "source": [
    "fileLength(\"Filelength.txt\")"
   ]
  },
  {
   "cell_type": "code",
   "execution_count": 33,
   "id": "59d4291e",
   "metadata": {},
   "outputs": [
    {
     "name": "stdout",
     "output_type": "stream",
     "text": [
      "File midterm.py not found\n"
     ]
    }
   ],
   "source": [
    "fileLength(\"midterm.py\")"
   ]
  },
  {
   "cell_type": "markdown",
   "id": "6b78d912",
   "metadata": {},
   "source": [
    "# Question 3 # \n",
    "Write a class named Marsupial that can be used as shown below: <br> m = Marsupial() <br> m.put_in_pouch('doll') <br> m.put_in_pouch('firetruck') <br>m.put_in_pouch('kitten') <br> m.pouch_contents() ['doll', 'firetruck', 'kitten']"
   ]
  },
  {
   "cell_type": "code",
   "execution_count": 35,
   "id": "e889e3d8",
   "metadata": {},
   "outputs": [],
   "source": [
    "class Marsupial():\n",
    "    def __init__(self):\n",
    "        self.pouch=[]\n",
    "    def put_in_pouch(self,stuff):\n",
    "        self.pouch.append(stuff)\n",
    "    def pouch_contents(self):\n",
    "        print(self.pouch)"
   ]
  },
  {
   "cell_type": "code",
   "execution_count": 36,
   "id": "27bbc5f4",
   "metadata": {},
   "outputs": [],
   "source": [
    "m = Marsupial()\n",
    "m.put_in_pouch('doll')\n",
    "m.put_in_pouch('firetruck')\n",
    "m.put_in_pouch('kitten')"
   ]
  },
  {
   "cell_type": "code",
   "execution_count": 37,
   "id": "dd309e9d",
   "metadata": {},
   "outputs": [
    {
     "name": "stdout",
     "output_type": "stream",
     "text": [
      "['doll', 'firetruck', 'kitten']\n"
     ]
    }
   ],
   "source": [
    "m.pouch_contents()"
   ]
  },
  {
   "cell_type": "markdown",
   "id": "8a62d3a4",
   "metadata": {},
   "source": [
    "Now write a class named Kangaroo as a subclass of Marsupial that inherits all the attributes of Marsupial and also:<br>\n",
    "a. extends the Marsupial __init__ constructor to take, as input, the coordinates x and y of the Kangaroo object,<br>\n",
    "b. supports method jump that takes number values dx and dy as input and moves the kangaroo by dx units along the x-axis and by dy units along the y-axis, and<br>\n",
    "c. overloads the __str__ operator so it behaves as shown below.\n",
    "<br> k = Kangaroo(0,0) <br> print(k) I am a Kangaroo located at coordinates (0,0) <br> k.put_in_pouch('doll') <br> k.put_in_pouch('firetruck') <br> k.put_in_pouch('kitten') <br> k.pouch_contents() ['doll', 'firetruck', 'kitten'] <br> k.jump(1,0) <br> k.jump(1,0) <br> k.jump(1,0) <br> print(k) I am a Kangaroo located at coordinates (3,0)"
   ]
  },
  {
   "cell_type": "code",
   "execution_count": 38,
   "id": "085d3035",
   "metadata": {},
   "outputs": [],
   "source": [
    "class Kangaroo(Marsupial):\n",
    "    def __init__(self,x,y):\n",
    "        Marsupial.__init__(self)\n",
    "        self.x=x\n",
    "        self.y=y\n",
    "    def jump(self,dx,dy):\n",
    "        self.x +=dx\n",
    "        self.y +=dy\n",
    "    def __str__(self):\n",
    "        return 'I am a Kangaroo located at coordinates ({},{})'.format(self.x,self.y)\n",
    "        "
   ]
  },
  {
   "cell_type": "code",
   "execution_count": 39,
   "id": "fbdaab4b",
   "metadata": {},
   "outputs": [
    {
     "name": "stdout",
     "output_type": "stream",
     "text": [
      "I am a Kangaroo located at coordinates (0,0)\n"
     ]
    }
   ],
   "source": [
    "k = Kangaroo(0,0)\n",
    "print(k)"
   ]
  },
  {
   "cell_type": "code",
   "execution_count": 40,
   "id": "2a250259",
   "metadata": {},
   "outputs": [
    {
     "name": "stdout",
     "output_type": "stream",
     "text": [
      "['doll', 'firetruck', 'kitten']\n"
     ]
    }
   ],
   "source": [
    "k.put_in_pouch('doll')\n",
    "k.put_in_pouch('firetruck')\n",
    "k.put_in_pouch('kitten')\n",
    "k.pouch_contents()"
   ]
  },
  {
   "cell_type": "code",
   "execution_count": 41,
   "id": "492b41a7",
   "metadata": {},
   "outputs": [
    {
     "name": "stdout",
     "output_type": "stream",
     "text": [
      "I am a Kangaroo located at coordinates (3,0)\n"
     ]
    }
   ],
   "source": [
    "k.jump(1,0)\n",
    "k.jump(1,0)\n",
    "k.jump(1,0)\n",
    "print(k) "
   ]
  },
  {
   "cell_type": "markdown",
   "id": "3866941c",
   "metadata": {},
   "source": [
    "# Question 4 #\n",
    "Write function collatz() that takes a positive integer x as input and prints the Collatz sequence starting at x. A Collatz sequence is obtained by repeatedly applying this rule to the previous number x in the sequence:<br>\n",
    "x = { 𝑥/2 𝑖𝑓 𝑥 𝑖𝑠 𝑒𝑣𝑒𝑛<br>3𝑥+1 𝑖𝑓 𝑥 𝑖𝑠 𝑜𝑑𝑑<br>\n",
    "Your function should stop when the sequence gets to number 1. Your implementation must be recursive, without any loops.<br>"
   ]
  },
  {
   "cell_type": "code",
   "execution_count": 101,
   "id": "45517006",
   "metadata": {},
   "outputs": [],
   "source": [
    "def collatz(x):   \n",
    "    if x==1:\n",
    "        print(1)\n",
    "    elif x !=1 and x%2==1:\n",
    "        print(int(x))\n",
    "        collatz(3*x+1)    \n",
    "    elif x%2 ==0:\n",
    "        print(int(x))\n",
    "        collatz(x/2)\n"
   ]
  },
  {
   "cell_type": "code",
   "execution_count": 102,
   "id": "4f324f6f",
   "metadata": {},
   "outputs": [
    {
     "name": "stdout",
     "output_type": "stream",
     "text": [
      "1\n"
     ]
    }
   ],
   "source": [
    "collatz(1)"
   ]
  },
  {
   "cell_type": "code",
   "execution_count": 103,
   "id": "90ad2378",
   "metadata": {},
   "outputs": [
    {
     "name": "stdout",
     "output_type": "stream",
     "text": [
      "10\n",
      "5\n",
      "16\n",
      "8\n",
      "4\n",
      "2\n",
      "1\n"
     ]
    }
   ],
   "source": [
    "collatz(10)"
   ]
  },
  {
   "cell_type": "markdown",
   "id": "035dda8b",
   "metadata": {},
   "source": [
    "# Question 5 # \n",
    "Write a recursive method binary() that takes a non-negative integer n and prints the binary representation of integer n."
   ]
  },
  {
   "cell_type": "code",
   "execution_count": 94,
   "id": "f69af73e",
   "metadata": {},
   "outputs": [],
   "source": [
    "def binary(n):\n",
    "    if n == 0:\n",
    "        return \"0\"\n",
    "    elif n==1:\n",
    "        return \"1\"\n",
    "    else:\n",
    "        return binary(n//2) + str(n%2)\n",
    "        "
   ]
  },
  {
   "cell_type": "code",
   "execution_count": 97,
   "id": "511b99bc",
   "metadata": {},
   "outputs": [
    {
     "data": {
      "text/plain": [
       "'0'"
      ]
     },
     "execution_count": 97,
     "metadata": {},
     "output_type": "execute_result"
    }
   ],
   "source": [
    "binary(0)"
   ]
  },
  {
   "cell_type": "code",
   "execution_count": 98,
   "id": "17a37b1d",
   "metadata": {},
   "outputs": [
    {
     "data": {
      "text/plain": [
       "'1'"
      ]
     },
     "execution_count": 98,
     "metadata": {},
     "output_type": "execute_result"
    }
   ],
   "source": [
    "binary(1)"
   ]
  },
  {
   "cell_type": "code",
   "execution_count": 99,
   "id": "8dfe1921",
   "metadata": {},
   "outputs": [
    {
     "data": {
      "text/plain": [
       "'11'"
      ]
     },
     "execution_count": 99,
     "metadata": {},
     "output_type": "execute_result"
    }
   ],
   "source": [
    "binary(3)"
   ]
  },
  {
   "cell_type": "code",
   "execution_count": 100,
   "id": "f1857661",
   "metadata": {},
   "outputs": [
    {
     "data": {
      "text/plain": [
       "'1001'"
      ]
     },
     "execution_count": 100,
     "metadata": {},
     "output_type": "execute_result"
    }
   ],
   "source": [
    "binary(9)"
   ]
  },
  {
   "cell_type": "markdown",
   "id": "956603be",
   "metadata": {},
   "source": [
    "# Question 6 #\n",
    "Implement a class named HeadingParser that can be used to parse an HTML document, and retrieve and print all the headings in the document. You should implement your class as a subclass of HTMLParser, defined in Standard Library module html.parser. When fed a string containing HTML code, your class should print the headings, one per line and in the order in which they appear in the document. Each heading should be indented as follows: an h1 heading should have indentation 0, and h2 heading should have indentation 1, etc. Test your implementation using w3c.html.\n",
    "<br>infile = open('w3c.html')\n",
    "<br>content = infile.read()\n",
    "<br> infile.close()\n",
    "<br>hp = HeadingParser()\n",
    "<br> hp.feed(content)\n",
    "W3C Mission\n",
    "Principles"
   ]
  },
  {
   "cell_type": "code",
   "execution_count": 30,
   "id": "a1198bf3",
   "metadata": {},
   "outputs": [],
   "source": [
    "from html.parser import HTMLParser\n",
    "import re\n",
    "\n",
    "class HeadingParser(HTMLParser):\n",
    "    heading = False\n",
    "    indentation = 0\n",
    "    def handle_starttag(self, tag, attrs):\n",
    "        if re.match(r'h\\d{1}',tag):\n",
    "            self.heading =True\n",
    "            \n",
    "    def handle_data(self, data):\n",
    "        if self.heading: \n",
    "            print(self.indentation * \" \" + data)\n",
    "            self.indentation+=1\n",
    "            \n",
    "    def handle_endtag(self, tag):\n",
    "        if re.match(r'h\\d{1}',tag):\n",
    "            self.heading =False"
   ]
  },
  {
   "cell_type": "code",
   "execution_count": 31,
   "id": "031cfb4b",
   "metadata": {},
   "outputs": [
    {
     "name": "stdout",
     "output_type": "stream",
     "text": [
      "W3C Mission\n",
      " Principles\n"
     ]
    }
   ],
   "source": [
    "infile = open('w3c.html')\n",
    "content = infile.read()\n",
    "infile.close()\n",
    "hp = HeadingParser()\n",
    "hp.feed(content)"
   ]
  },
  {
   "cell_type": "markdown",
   "id": "bb03ba92",
   "metadata": {},
   "source": [
    "# Question 7 #\n",
    "Implement recursive function webdir() that takes as input: a URL (as a string) and non-negative integers depth and indent. Your function should visit every web page reachable from the starting URL web page in depth clicks or less, and print each web page's URL. As shown below, indentation, specified by indent, should be used to indicate the depth of a URL. <br>webdir('http://reed.cs.depaul.edu/lperkovic/csc242/test1.html', 2, 0) http://reed.cs.depaul.edu/lperkovic/csc242/test1.html http://reed.cs.depaul.edu/lperkovic/csc242/test2.html http://reed.cs.depaul.edu/lperkovic/csc242/test4.html http://reed.cs.depaul.edu/lperkovic/csc242/test3.html http://reed.cs.depaul.edu/lperkovic/csc242/test4.html"
   ]
  },
  {
   "cell_type": "code",
   "execution_count": 1,
   "id": "a9355247",
   "metadata": {},
   "outputs": [],
   "source": [
    "from urllib.request import urlopen\n",
    "from urllib.parse import urljoin\n",
    "from html.parser import HTMLParser\n",
    "class Collector(HTMLParser):\n",
    "    'collects hyperlink URLs into a list'\n",
    "\n",
    "    def __init__(self, url):\n",
    "        'initializes parser, the url, and a list'\n",
    "        HTMLParser.__init__(self)\n",
    "        self.url = url\n",
    "        self.links = []\n",
    "\n",
    "    \n",
    "    def handle_starttag(self, tag, attrs):\n",
    "        'collects hyperlink URLs in their absolute format'\n",
    "        if tag == 'a':\n",
    "            for attr in attrs:\n",
    "                if attr[0] == 'href':\n",
    "                    # construct absolute URL\n",
    "                    absolute = urljoin(self.url, attr[1])\n",
    "                    if absolute[:4] == 'http': # collect HTTP URLs\n",
    "                        self.links.append(absolute)\n",
    "                        \n",
    "    def getLinks(self):\n",
    "        'returns hyperlinks URLs in their absolute format'\n",
    "        return self.links"
   ]
  },
  {
   "cell_type": "code",
   "execution_count": 2,
   "id": "b67b715b",
   "metadata": {},
   "outputs": [],
   "source": [
    "def webdir(url,depth,indent):    \n",
    "    print(\"  \"*indent + url)\n",
    "    if depth ==0:\n",
    "        return \n",
    "    else:\n",
    "        resource = urlopen(url)\n",
    "        content = resource.read().decode()\n",
    "        collector = Collector(url)\n",
    "        collector.feed(content)\n",
    "        url_list =collector.getLinks()\n",
    "        for urls in url_list:\n",
    "            webdir(urls,depth-1,indent+1)"
   ]
  },
  {
   "cell_type": "code",
   "execution_count": 3,
   "id": "b6e3c743",
   "metadata": {},
   "outputs": [
    {
     "name": "stdout",
     "output_type": "stream",
     "text": [
      "http://reed.cs.depaul.edu/lperkovic/one.html\n",
      "  http://reed.cs.depaul.edu/lperkovic/two.html\n",
      "    http://reed.cs.depaul.edu/lperkovic/four.html\n",
      "  http://reed.cs.depaul.edu/lperkovic/three.html\n",
      "    http://reed.cs.depaul.edu/lperkovic/four.html\n"
     ]
    }
   ],
   "source": [
    "webdir(\"http://reed.cs.depaul.edu/lperkovic/one.html\",2,0)"
   ]
  },
  {
   "cell_type": "markdown",
   "id": "f01d3de9",
   "metadata": {},
   "source": [
    "# Question 8 #\n",
    "Write SQL queries on the below database table that return:<br>\n",
    "a) All the temperature data.<br>\n",
    "b) All the cities, but without repetition.<br>\n",
    "c) All the records for India.<br>\n",
    "d) All the Fall records.<br>\n",
    "e) The city, country, and season for which the average rainfall is between 200 and 400 millimeters.<br>\n",
    "f) The city and country for which the average Fall temperature is above 20 degrees, in increasing temperature order.<br>\n",
    "g) The total annual rainfall for Cairo.<br>\n",
    "h) The total rainfall for each season.<br>"
   ]
  },
  {
   "cell_type": "code",
   "execution_count": 37,
   "id": "519b6977",
   "metadata": {},
   "outputs": [
    {
     "name": "stdout",
     "output_type": "stream",
     "text": [
      "Collecting ipython-sql\n",
      "  Downloading ipython_sql-0.4.0-py3-none-any.whl (19 kB)\n",
      "Requirement already satisfied: ipython>=1.0 in /Users/mengzhao/opt/anaconda3/lib/python3.7/site-packages (from ipython-sql) (7.12.0)\n",
      "Requirement already satisfied: six in /Users/mengzhao/opt/anaconda3/lib/python3.7/site-packages (from ipython-sql) (1.14.0)\n",
      "Requirement already satisfied: ipython-genutils>=0.1.0 in /Users/mengzhao/opt/anaconda3/lib/python3.7/site-packages (from ipython-sql) (0.2.0)\n",
      "Requirement already satisfied: sqlalchemy>=0.6.7 in /Users/mengzhao/opt/anaconda3/lib/python3.7/site-packages (from ipython-sql) (1.3.13)\n",
      "Collecting prettytable<1\n",
      "  Downloading prettytable-0.7.2.tar.bz2 (21 kB)\n",
      "Collecting sqlparse\n",
      "  Downloading sqlparse-0.4.1-py3-none-any.whl (42 kB)\n",
      "\u001b[K     |████████████████████████████████| 42 kB 2.2 MB/s eta 0:00:011\n",
      "\u001b[?25hRequirement already satisfied: backcall in /Users/mengzhao/opt/anaconda3/lib/python3.7/site-packages (from ipython>=1.0->ipython-sql) (0.1.0)\n",
      "Requirement already satisfied: setuptools>=18.5 in /Users/mengzhao/opt/anaconda3/lib/python3.7/site-packages (from ipython>=1.0->ipython-sql) (46.0.0.post20200309)\n",
      "Requirement already satisfied: appnope; sys_platform == \"darwin\" in /Users/mengzhao/opt/anaconda3/lib/python3.7/site-packages (from ipython>=1.0->ipython-sql) (0.1.0)\n",
      "Requirement already satisfied: pickleshare in /Users/mengzhao/opt/anaconda3/lib/python3.7/site-packages (from ipython>=1.0->ipython-sql) (0.7.5)\n",
      "Requirement already satisfied: prompt-toolkit!=3.0.0,!=3.0.1,<3.1.0,>=2.0.0 in /Users/mengzhao/opt/anaconda3/lib/python3.7/site-packages (from ipython>=1.0->ipython-sql) (3.0.3)\n",
      "Requirement already satisfied: pexpect; sys_platform != \"win32\" in /Users/mengzhao/opt/anaconda3/lib/python3.7/site-packages (from ipython>=1.0->ipython-sql) (4.8.0)\n",
      "Requirement already satisfied: traitlets>=4.2 in /Users/mengzhao/opt/anaconda3/lib/python3.7/site-packages (from ipython>=1.0->ipython-sql) (4.3.3)\n",
      "Requirement already satisfied: pygments in /Users/mengzhao/opt/anaconda3/lib/python3.7/site-packages (from ipython>=1.0->ipython-sql) (2.5.2)\n",
      "Requirement already satisfied: jedi>=0.10 in /Users/mengzhao/opt/anaconda3/lib/python3.7/site-packages (from ipython>=1.0->ipython-sql) (0.14.1)\n",
      "Requirement already satisfied: decorator in /Users/mengzhao/opt/anaconda3/lib/python3.7/site-packages (from ipython>=1.0->ipython-sql) (4.4.1)\n",
      "Requirement already satisfied: wcwidth in /Users/mengzhao/opt/anaconda3/lib/python3.7/site-packages (from prompt-toolkit!=3.0.0,!=3.0.1,<3.1.0,>=2.0.0->ipython>=1.0->ipython-sql) (0.1.8)\n",
      "Requirement already satisfied: ptyprocess>=0.5 in /Users/mengzhao/opt/anaconda3/lib/python3.7/site-packages (from pexpect; sys_platform != \"win32\"->ipython>=1.0->ipython-sql) (0.6.0)\n",
      "Requirement already satisfied: parso>=0.5.0 in /Users/mengzhao/opt/anaconda3/lib/python3.7/site-packages (from jedi>=0.10->ipython>=1.0->ipython-sql) (0.5.2)\n",
      "Building wheels for collected packages: prettytable\n",
      "  Building wheel for prettytable (setup.py) ... \u001b[?25ldone\n",
      "\u001b[?25h  Created wheel for prettytable: filename=prettytable-0.7.2-py3-none-any.whl size=13698 sha256=0260350a2e0d36116010ff368637645bb2f7273f2a6368c3da37302e7682c639\n",
      "  Stored in directory: /Users/mengzhao/Library/Caches/pip/wheels/8c/76/0b/eb9eb3da7e2335e3577e3f96a0ae9f74f206e26457bd1a2bc8\n",
      "Successfully built prettytable\n",
      "Installing collected packages: prettytable, sqlparse, ipython-sql\n",
      "Successfully installed ipython-sql-0.4.0 prettytable-0.7.2 sqlparse-0.4.1\n"
     ]
    }
   ],
   "source": [
    " !pip install ipython-sql"
   ]
  },
  {
   "cell_type": "code",
   "execution_count": 2,
   "id": "04a64314",
   "metadata": {},
   "outputs": [],
   "source": [
    "%%capture\n",
    "%load_ext sql\n",
    "%sql sqlite:///chinook.db"
   ]
  },
  {
   "cell_type": "code",
   "execution_count": 3,
   "id": "94d9e878",
   "metadata": {},
   "outputs": [
    {
     "name": "stdout",
     "output_type": "stream",
     "text": [
      " * sqlite:///chinook.db\n",
      "(sqlite3.OperationalError) table rain already exists\n",
      "[SQL: CREATE TABLE rain(City varchar(100),Country varchar(100),Season varchar(100),Temperature float ,Rainfall float);]\n",
      "(Background on this error at: http://sqlalche.me/e/e3q8)\n"
     ]
    }
   ],
   "source": [
    "%%sql\n",
    "CREATE TABLE rain(City varchar(100),Country varchar(100),Season varchar(100),Temperature float ,Rainfall float);\n"
   ]
  },
  {
   "cell_type": "code",
   "execution_count": 72,
   "id": "cea58e69",
   "metadata": {},
   "outputs": [
    {
     "name": "stdout",
     "output_type": "stream",
     "text": [
      " * sqlite:///chinook.db\n",
      "1 rows affected.\n",
      "1 rows affected.\n",
      "1 rows affected.\n",
      "1 rows affected.\n",
      "1 rows affected.\n",
      "1 rows affected.\n",
      "1 rows affected.\n",
      "1 rows affected.\n",
      "1 rows affected.\n",
      "1 rows affected.\n",
      "1 rows affected.\n",
      "1 rows affected.\n"
     ]
    },
    {
     "data": {
      "text/plain": [
       "[]"
      ]
     },
     "execution_count": 72,
     "metadata": {},
     "output_type": "execute_result"
    }
   ],
   "source": [
    "%%sql\n",
    "INSERT INTO rain VALUES('Mumbai','India', 'Winter',24.8,5.9);\n",
    "INSERT INTO rain VALUES('Mumbai','India', 'Spring',28.4,16.2);\n",
    "INSERT INTO rain VALUES('Mumbai','India', 'Summer',27.9,1549.4);\n",
    "INSERT INTO rain VALUES('Mumbai','India', 'Fall',27.6,346.0);\n",
    "INSERT INTO rain VALUES('London','United Kingdom', 'Winter',4.2,207.7);\n",
    "INSERT INTO rain VALUES('London','United Kingdom', 'Spring',8.3,169.6);\n",
    "INSERT INTO rain VALUES('London','United Kingdom', 'Summer',15.7,157.0);\n",
    "INSERT INTO rain VALUES('London','United Kingdom', 'Fall',10.4,218.5);\n",
    "INSERT INTO rain VALUES('Cairo','Eqypt', 'Winter',13.6,16.5);\n",
    "INSERT INTO rain VALUES('Cairo','Eqypt', 'Spring',20.7,6.5);\n",
    "INSERT INTO rain VALUES('Cairo','Eqypt', 'Summer',27.7,0.1);\n",
    "INSERT INTO rain VALUES('Cairo','Eqypt', 'Fall',22.2,4.5);"
   ]
  },
  {
   "cell_type": "code",
   "execution_count": 73,
   "id": "43070a53",
   "metadata": {},
   "outputs": [
    {
     "name": "stdout",
     "output_type": "stream",
     "text": [
      " * sqlite:///chinook.db\n",
      "Done.\n"
     ]
    },
    {
     "data": {
      "text/html": [
       "<table>\n",
       "    <tr>\n",
       "        <th>City</th>\n",
       "        <th>Country</th>\n",
       "        <th>Season</th>\n",
       "        <th>Temperature</th>\n",
       "        <th>Rainfall</th>\n",
       "    </tr>\n",
       "    <tr>\n",
       "        <td>Mumbai</td>\n",
       "        <td>India</td>\n",
       "        <td>Winter</td>\n",
       "        <td>24.8</td>\n",
       "        <td>5.9</td>\n",
       "    </tr>\n",
       "    <tr>\n",
       "        <td>Mumbai</td>\n",
       "        <td>India</td>\n",
       "        <td>Spring</td>\n",
       "        <td>28.4</td>\n",
       "        <td>16.2</td>\n",
       "    </tr>\n",
       "    <tr>\n",
       "        <td>Mumbai</td>\n",
       "        <td>India</td>\n",
       "        <td>Summer</td>\n",
       "        <td>27.9</td>\n",
       "        <td>1549.4</td>\n",
       "    </tr>\n",
       "    <tr>\n",
       "        <td>Mumbai</td>\n",
       "        <td>India</td>\n",
       "        <td>Fall</td>\n",
       "        <td>27.6</td>\n",
       "        <td>346.0</td>\n",
       "    </tr>\n",
       "    <tr>\n",
       "        <td>London</td>\n",
       "        <td>United Kingdom</td>\n",
       "        <td>Winter</td>\n",
       "        <td>4.2</td>\n",
       "        <td>207.7</td>\n",
       "    </tr>\n",
       "    <tr>\n",
       "        <td>London</td>\n",
       "        <td>United Kingdom</td>\n",
       "        <td>Spring</td>\n",
       "        <td>8.3</td>\n",
       "        <td>169.6</td>\n",
       "    </tr>\n",
       "    <tr>\n",
       "        <td>London</td>\n",
       "        <td>United Kingdom</td>\n",
       "        <td>Summer</td>\n",
       "        <td>15.7</td>\n",
       "        <td>157.0</td>\n",
       "    </tr>\n",
       "    <tr>\n",
       "        <td>London</td>\n",
       "        <td>United Kingdom</td>\n",
       "        <td>Fall</td>\n",
       "        <td>10.4</td>\n",
       "        <td>218.5</td>\n",
       "    </tr>\n",
       "    <tr>\n",
       "        <td>Cairo</td>\n",
       "        <td>Eqypt</td>\n",
       "        <td>Winter</td>\n",
       "        <td>13.6</td>\n",
       "        <td>16.5</td>\n",
       "    </tr>\n",
       "    <tr>\n",
       "        <td>Cairo</td>\n",
       "        <td>Eqypt</td>\n",
       "        <td>Spring</td>\n",
       "        <td>20.7</td>\n",
       "        <td>6.5</td>\n",
       "    </tr>\n",
       "    <tr>\n",
       "        <td>Cairo</td>\n",
       "        <td>Eqypt</td>\n",
       "        <td>Summer</td>\n",
       "        <td>27.7</td>\n",
       "        <td>0.1</td>\n",
       "    </tr>\n",
       "    <tr>\n",
       "        <td>Cairo</td>\n",
       "        <td>Eqypt</td>\n",
       "        <td>Fall</td>\n",
       "        <td>22.2</td>\n",
       "        <td>4.5</td>\n",
       "    </tr>\n",
       "</table>"
      ],
      "text/plain": [
       "[('Mumbai', 'India', 'Winter', 24.8, 5.9),\n",
       " ('Mumbai', 'India', 'Spring', 28.4, 16.2),\n",
       " ('Mumbai', 'India', 'Summer', 27.9, 1549.4),\n",
       " ('Mumbai', 'India', 'Fall', 27.6, 346.0),\n",
       " ('London', 'United Kingdom', 'Winter', 4.2, 207.7),\n",
       " ('London', 'United Kingdom', 'Spring', 8.3, 169.6),\n",
       " ('London', 'United Kingdom', 'Summer', 15.7, 157.0),\n",
       " ('London', 'United Kingdom', 'Fall', 10.4, 218.5),\n",
       " ('Cairo', 'Eqypt', 'Winter', 13.6, 16.5),\n",
       " ('Cairo', 'Eqypt', 'Spring', 20.7, 6.5),\n",
       " ('Cairo', 'Eqypt', 'Summer', 27.7, 0.1),\n",
       " ('Cairo', 'Eqypt', 'Fall', 22.2, 4.5)]"
      ]
     },
     "execution_count": 73,
     "metadata": {},
     "output_type": "execute_result"
    }
   ],
   "source": [
    "%%sql\n",
    "SELECT * FROM rain;"
   ]
  },
  {
   "cell_type": "code",
   "execution_count": 76,
   "id": "eb78e546",
   "metadata": {},
   "outputs": [
    {
     "name": "stdout",
     "output_type": "stream",
     "text": [
      " * sqlite:///chinook.db\n",
      "Done.\n"
     ]
    },
    {
     "data": {
      "text/html": [
       "<table>\n",
       "    <tr>\n",
       "        <th>Temperature</th>\n",
       "    </tr>\n",
       "    <tr>\n",
       "        <td>24.8</td>\n",
       "    </tr>\n",
       "    <tr>\n",
       "        <td>28.4</td>\n",
       "    </tr>\n",
       "    <tr>\n",
       "        <td>27.9</td>\n",
       "    </tr>\n",
       "    <tr>\n",
       "        <td>27.6</td>\n",
       "    </tr>\n",
       "    <tr>\n",
       "        <td>4.2</td>\n",
       "    </tr>\n",
       "    <tr>\n",
       "        <td>8.3</td>\n",
       "    </tr>\n",
       "    <tr>\n",
       "        <td>15.7</td>\n",
       "    </tr>\n",
       "    <tr>\n",
       "        <td>10.4</td>\n",
       "    </tr>\n",
       "    <tr>\n",
       "        <td>13.6</td>\n",
       "    </tr>\n",
       "    <tr>\n",
       "        <td>20.7</td>\n",
       "    </tr>\n",
       "    <tr>\n",
       "        <td>27.7</td>\n",
       "    </tr>\n",
       "    <tr>\n",
       "        <td>22.2</td>\n",
       "    </tr>\n",
       "</table>"
      ],
      "text/plain": [
       "[(24.8,),\n",
       " (28.4,),\n",
       " (27.9,),\n",
       " (27.6,),\n",
       " (4.2,),\n",
       " (8.3,),\n",
       " (15.7,),\n",
       " (10.4,),\n",
       " (13.6,),\n",
       " (20.7,),\n",
       " (27.7,),\n",
       " (22.2,)]"
      ]
     },
     "execution_count": 76,
     "metadata": {},
     "output_type": "execute_result"
    }
   ],
   "source": [
    "#a) All the temperature data.\n",
    "%sql SELECT Temperature FROM rain"
   ]
  },
  {
   "cell_type": "code",
   "execution_count": 77,
   "id": "7d00fee1",
   "metadata": {},
   "outputs": [
    {
     "name": "stdout",
     "output_type": "stream",
     "text": [
      " * sqlite:///chinook.db\n",
      "Done.\n"
     ]
    },
    {
     "data": {
      "text/html": [
       "<table>\n",
       "    <tr>\n",
       "        <th>City</th>\n",
       "    </tr>\n",
       "    <tr>\n",
       "        <td>Mumbai</td>\n",
       "    </tr>\n",
       "    <tr>\n",
       "        <td>London</td>\n",
       "    </tr>\n",
       "    <tr>\n",
       "        <td>Cairo</td>\n",
       "    </tr>\n",
       "</table>"
      ],
      "text/plain": [
       "[('Mumbai',), ('London',), ('Cairo',)]"
      ]
     },
     "execution_count": 77,
     "metadata": {},
     "output_type": "execute_result"
    }
   ],
   "source": [
    "#b) All the cities, but without repetition.\n",
    "%sql SELECT DISTINCT City FROM rain"
   ]
  },
  {
   "cell_type": "code",
   "execution_count": 79,
   "id": "4589fcd8",
   "metadata": {},
   "outputs": [
    {
     "name": "stdout",
     "output_type": "stream",
     "text": [
      " * sqlite:///chinook.db\n",
      "Done.\n"
     ]
    },
    {
     "data": {
      "text/html": [
       "<table>\n",
       "    <tr>\n",
       "        <th>City</th>\n",
       "        <th>Country</th>\n",
       "        <th>Season</th>\n",
       "        <th>Temperature</th>\n",
       "        <th>Rainfall</th>\n",
       "    </tr>\n",
       "    <tr>\n",
       "        <td>Mumbai</td>\n",
       "        <td>India</td>\n",
       "        <td>Winter</td>\n",
       "        <td>24.8</td>\n",
       "        <td>5.9</td>\n",
       "    </tr>\n",
       "    <tr>\n",
       "        <td>Mumbai</td>\n",
       "        <td>India</td>\n",
       "        <td>Spring</td>\n",
       "        <td>28.4</td>\n",
       "        <td>16.2</td>\n",
       "    </tr>\n",
       "    <tr>\n",
       "        <td>Mumbai</td>\n",
       "        <td>India</td>\n",
       "        <td>Summer</td>\n",
       "        <td>27.9</td>\n",
       "        <td>1549.4</td>\n",
       "    </tr>\n",
       "    <tr>\n",
       "        <td>Mumbai</td>\n",
       "        <td>India</td>\n",
       "        <td>Fall</td>\n",
       "        <td>27.6</td>\n",
       "        <td>346.0</td>\n",
       "    </tr>\n",
       "</table>"
      ],
      "text/plain": [
       "[('Mumbai', 'India', 'Winter', 24.8, 5.9),\n",
       " ('Mumbai', 'India', 'Spring', 28.4, 16.2),\n",
       " ('Mumbai', 'India', 'Summer', 27.9, 1549.4),\n",
       " ('Mumbai', 'India', 'Fall', 27.6, 346.0)]"
      ]
     },
     "execution_count": 79,
     "metadata": {},
     "output_type": "execute_result"
    }
   ],
   "source": [
    "#c) All the records for India.\n",
    "%sql SELECT * FROM rain WHERE Country =\"India\""
   ]
  },
  {
   "cell_type": "code",
   "execution_count": 81,
   "id": "01069fc4",
   "metadata": {},
   "outputs": [
    {
     "name": "stdout",
     "output_type": "stream",
     "text": [
      " * sqlite:///chinook.db\n",
      "Done.\n"
     ]
    },
    {
     "data": {
      "text/html": [
       "<table>\n",
       "    <tr>\n",
       "        <th>City</th>\n",
       "        <th>Country</th>\n",
       "        <th>Season</th>\n",
       "        <th>Temperature</th>\n",
       "        <th>Rainfall</th>\n",
       "    </tr>\n",
       "    <tr>\n",
       "        <td>Mumbai</td>\n",
       "        <td>India</td>\n",
       "        <td>Fall</td>\n",
       "        <td>27.6</td>\n",
       "        <td>346.0</td>\n",
       "    </tr>\n",
       "    <tr>\n",
       "        <td>London</td>\n",
       "        <td>United Kingdom</td>\n",
       "        <td>Fall</td>\n",
       "        <td>10.4</td>\n",
       "        <td>218.5</td>\n",
       "    </tr>\n",
       "    <tr>\n",
       "        <td>Cairo</td>\n",
       "        <td>Eqypt</td>\n",
       "        <td>Fall</td>\n",
       "        <td>22.2</td>\n",
       "        <td>4.5</td>\n",
       "    </tr>\n",
       "</table>"
      ],
      "text/plain": [
       "[('Mumbai', 'India', 'Fall', 27.6, 346.0),\n",
       " ('London', 'United Kingdom', 'Fall', 10.4, 218.5),\n",
       " ('Cairo', 'Eqypt', 'Fall', 22.2, 4.5)]"
      ]
     },
     "execution_count": 81,
     "metadata": {},
     "output_type": "execute_result"
    }
   ],
   "source": [
    "#d) All the Fall records.\n",
    "%sql SELECT * FROM rain WHERE Season = \"Fall\""
   ]
  },
  {
   "cell_type": "code",
   "execution_count": 90,
   "id": "f96b2303",
   "metadata": {},
   "outputs": [
    {
     "name": "stdout",
     "output_type": "stream",
     "text": [
      " * sqlite:///chinook.db\n",
      "Done.\n"
     ]
    },
    {
     "data": {
      "text/html": [
       "<table>\n",
       "    <tr>\n",
       "        <th>City</th>\n",
       "        <th>Country</th>\n",
       "        <th>Season</th>\n",
       "    </tr>\n",
       "    <tr>\n",
       "        <td>Mumbai</td>\n",
       "        <td>India</td>\n",
       "        <td>Fall</td>\n",
       "    </tr>\n",
       "    <tr>\n",
       "        <td>London</td>\n",
       "        <td>United Kingdom</td>\n",
       "        <td>Winter</td>\n",
       "    </tr>\n",
       "    <tr>\n",
       "        <td>London</td>\n",
       "        <td>United Kingdom</td>\n",
       "        <td>Fall</td>\n",
       "    </tr>\n",
       "</table>"
      ],
      "text/plain": [
       "[('Mumbai', 'India', 'Fall'),\n",
       " ('London', 'United Kingdom', 'Winter'),\n",
       " ('London', 'United Kingdom', 'Fall')]"
      ]
     },
     "execution_count": 90,
     "metadata": {},
     "output_type": "execute_result"
    }
   ],
   "source": [
    "#e) The city, country, and season for which the average rainfall is between 200 and 400 millimeters\n",
    "%sql SELECT City,Country,Season FROM rain WHERE Rainfall BETWEEN 200 AND 400"
   ]
  },
  {
   "cell_type": "code",
   "execution_count": 92,
   "id": "0093cdc0",
   "metadata": {},
   "outputs": [
    {
     "name": "stdout",
     "output_type": "stream",
     "text": [
      " * sqlite:///chinook.db\n",
      "Done.\n"
     ]
    },
    {
     "data": {
      "text/html": [
       "<table>\n",
       "    <tr>\n",
       "        <th>City</th>\n",
       "        <th>Country</th>\n",
       "    </tr>\n",
       "    <tr>\n",
       "        <td>Cairo</td>\n",
       "        <td>Eqypt</td>\n",
       "    </tr>\n",
       "    <tr>\n",
       "        <td>Mumbai</td>\n",
       "        <td>India</td>\n",
       "    </tr>\n",
       "</table>"
      ],
      "text/plain": [
       "[('Cairo', 'Eqypt'), ('Mumbai', 'India')]"
      ]
     },
     "execution_count": 92,
     "metadata": {},
     "output_type": "execute_result"
    }
   ],
   "source": [
    "#f) The city and country for which the average Fall temperature is above 20 degrees, in increasing temperature order.\n",
    "%sql SELECT City,Country FROM rain WHERE Season = \"Fall\" AND Temperature >20 ORDER by Temperature ASC"
   ]
  },
  {
   "cell_type": "code",
   "execution_count": 94,
   "id": "0418f964",
   "metadata": {},
   "outputs": [
    {
     "name": "stdout",
     "output_type": "stream",
     "text": [
      " * sqlite:///chinook.db\n",
      "Done.\n"
     ]
    },
    {
     "data": {
      "text/html": [
       "<table>\n",
       "    <tr>\n",
       "        <th>SUM(Rainfall)</th>\n",
       "    </tr>\n",
       "    <tr>\n",
       "        <td>27.6</td>\n",
       "    </tr>\n",
       "</table>"
      ],
      "text/plain": [
       "[(27.6,)]"
      ]
     },
     "execution_count": 94,
     "metadata": {},
     "output_type": "execute_result"
    }
   ],
   "source": [
    "#g) The total annual rainfall for Cairo.\n",
    "%sql SELECT SUM(Rainfall) FROM rain WHERE City=\"Cairo\""
   ]
  },
  {
   "cell_type": "code",
   "execution_count": 96,
   "id": "29065f5f",
   "metadata": {},
   "outputs": [
    {
     "name": "stdout",
     "output_type": "stream",
     "text": [
      " * sqlite:///chinook.db\n",
      "Done.\n"
     ]
    },
    {
     "data": {
      "text/html": [
       "<table>\n",
       "    <tr>\n",
       "        <th>Season</th>\n",
       "        <th>SUM(Rainfall)</th>\n",
       "    </tr>\n",
       "    <tr>\n",
       "        <td>Fall</td>\n",
       "        <td>569.0</td>\n",
       "    </tr>\n",
       "    <tr>\n",
       "        <td>Spring</td>\n",
       "        <td>192.29999999999998</td>\n",
       "    </tr>\n",
       "    <tr>\n",
       "        <td>Summer</td>\n",
       "        <td>1706.5</td>\n",
       "    </tr>\n",
       "    <tr>\n",
       "        <td>Winter</td>\n",
       "        <td>230.1</td>\n",
       "    </tr>\n",
       "</table>"
      ],
      "text/plain": [
       "[('Fall', 569.0),\n",
       " ('Spring', 192.29999999999998),\n",
       " ('Summer', 1706.5),\n",
       " ('Winter', 230.1)]"
      ]
     },
     "execution_count": 96,
     "metadata": {},
     "output_type": "execute_result"
    }
   ],
   "source": [
    "#h) The total rainfall for each season.\n",
    "%sql SELECT Season,SUM(Rainfall) FROM rain GROUP BY Season"
   ]
  },
  {
   "cell_type": "markdown",
   "id": "0d2e7fce",
   "metadata": {},
   "source": [
    "# Question 9 #\n",
    "Suppose list words is defined as follows:<br>\n",
    "words = ['The', 'quick', 'brown', 'fox', 'jumps', 'over', 'the', 'lazy', 'dog']<br>\n",
    "Write list comprehension expressions that use list words and generate the following lists:<br>\n",
    "a) ['THE', 'QUICK', 'BROWN', 'FOX', 'JUMPS', 'OVER', 'THE', 'LAZY', 'DOG']<br>\n",
    "b) ['the', 'quick', 'brown', 'fox', 'jumps', 'over', 'the', 'lazy', 'dog']<br>\n",
    "c) [3, 5, 5, 3, 5, 4, 3, 4, 3] (the list of lengths of words in list words).<br>\n",
    "d) [['THE', 'the', 3], ['QUICK', 'quick', 5], ['BROWN', 'brown', 5], ['FOX', 'fox', 3], ['JUMPS', 'jumps', 5], ['OVER', 'over', 4], ['THE', 'the', 3], ['LAZY', 'lazy', 4], ['DOG', 'dog', 3]] (the list containing a list for every word of list words, where each list contains the word in uppercase and lowercase and the length of the word.)<br>\n",
    "e) ['The', 'quick', 'brown', 'fox', 'jumps', 'over', 'the', 'lazy', 'dog'] (the list of words in list words containing 4 or more characters.)"
   ]
  },
  {
   "cell_type": "code",
   "execution_count": 108,
   "id": "eec46f58",
   "metadata": {},
   "outputs": [],
   "source": [
    "words = ['The', 'quick', 'brown', 'fox', 'jumps', 'over', 'the', 'lazy', 'dog']"
   ]
  },
  {
   "cell_type": "code",
   "execution_count": 109,
   "id": "26fed478",
   "metadata": {},
   "outputs": [
    {
     "data": {
      "text/plain": [
       "['THE', 'QUICK', 'BROWN', 'FOX', 'JUMPS', 'OVER', 'THE', 'LAZY', 'DOG']"
      ]
     },
     "execution_count": 109,
     "metadata": {},
     "output_type": "execute_result"
    }
   ],
   "source": [
    "[x.upper() for x in words]"
   ]
  },
  {
   "cell_type": "code",
   "execution_count": 110,
   "id": "a1269ddf",
   "metadata": {},
   "outputs": [
    {
     "data": {
      "text/plain": [
       "['the', 'quick', 'brown', 'fox', 'jumps', 'over', 'the', 'lazy', 'dog']"
      ]
     },
     "execution_count": 110,
     "metadata": {},
     "output_type": "execute_result"
    }
   ],
   "source": [
    "[x.lower() for x in words]"
   ]
  },
  {
   "cell_type": "code",
   "execution_count": 113,
   "id": "81560eb6",
   "metadata": {},
   "outputs": [
    {
     "data": {
      "text/plain": [
       "[3, 5, 5, 3, 5, 4, 3, 4, 3]"
      ]
     },
     "execution_count": 113,
     "metadata": {},
     "output_type": "execute_result"
    }
   ],
   "source": [
    "[len(x) for x in words]"
   ]
  },
  {
   "cell_type": "code",
   "execution_count": 115,
   "id": "8137f509",
   "metadata": {},
   "outputs": [
    {
     "data": {
      "text/plain": [
       "[['THE', 'the', 3],\n",
       " ['QUICK', 'quick', 5],\n",
       " ['BROWN', 'brown', 5],\n",
       " ['FOX', 'fox', 3],\n",
       " ['JUMPS', 'jumps', 5],\n",
       " ['OVER', 'over', 4],\n",
       " ['THE', 'the', 3],\n",
       " ['LAZY', 'lazy', 4],\n",
       " ['DOG', 'dog', 3]]"
      ]
     },
     "execution_count": 115,
     "metadata": {},
     "output_type": "execute_result"
    }
   ],
   "source": [
    "[[x.upper(),x.lower(),len(x)] for x in words]"
   ]
  },
  {
   "cell_type": "code",
   "execution_count": 116,
   "id": "30fef553",
   "metadata": {},
   "outputs": [
    {
     "data": {
      "text/plain": [
       "['quick', 'brown', 'jumps', 'over', 'lazy']"
      ]
     },
     "execution_count": 116,
     "metadata": {},
     "output_type": "execute_result"
    }
   ],
   "source": [
    "[x for x in words if len(x)>=4]"
   ]
  },
  {
   "cell_type": "code",
   "execution_count": null,
   "id": "0912bc86",
   "metadata": {},
   "outputs": [],
   "source": []
  }
 ],
 "metadata": {
  "kernelspec": {
   "display_name": "Python 3",
   "language": "python",
   "name": "python3"
  },
  "language_info": {
   "codemirror_mode": {
    "name": "ipython",
    "version": 3
   },
   "file_extension": ".py",
   "mimetype": "text/x-python",
   "name": "python",
   "nbconvert_exporter": "python",
   "pygments_lexer": "ipython3",
   "version": "3.8.8"
  }
 },
 "nbformat": 4,
 "nbformat_minor": 5
}
